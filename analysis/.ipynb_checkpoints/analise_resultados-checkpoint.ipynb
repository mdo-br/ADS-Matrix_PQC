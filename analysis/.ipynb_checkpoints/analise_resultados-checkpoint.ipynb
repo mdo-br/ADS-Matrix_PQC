{
 "cells": [
  {
   "cell_type": "markdown",
   "metadata": {},
   "source": [
    "## Análise de Desempenho Criptográfico: Olm e Megolm (Híbrido vs. Clássico)\n",
    "\n",
    "Este notebook realiza a análise dos dados de desempenho coletados do experimento em Rust. O foco é comparar as métricas de **latência (tempo de execução)** e **largura de banda** para diferentes configurações de acordo de chave e algoritmos de cifra."
   ]
  },
  {
   "cell_type": "code",
   "execution_count": null,
   "metadata": {},
   "outputs": [],
   "source": [
    "import pandas as pd\n",
    "import matplotlib.pyplot as plt\n",
    "import seaborn as sns\n",
    "import glob\n",
    "import os\n",
    "\n",
    "# Configurações de plotagem para melhor visualização\n",
    "sns.set_style('whitegrid')\n",
    "plt.rcParams['figure.figsize'] = (15, 8)\n",
    "plt.rcParams['font.size'] = 12"
   ]
  },
  {
   "cell_type": "markdown",
   "metadata": {},
   "source": [
    "### Carregar os Dados\n",
    "\n",
    "O código abaixo encontra o arquivo de resultado CSV mais recente na pasta `../results` e o carrega em um DataFrame do Pandas."
   ]
  },
  {
   "cell_type": "code",
   "execution_count": null,
   "metadata": {},
   "outputs": [],
   "source": [
    "# Encontra o arquivo de resultados mais recente\n",
    "list_of_files = glob.glob('../results/*.csv')\n",
    "latest_file = max(list_of_files, key=os.path.getctime)\n",
    "\n",
    "print(f\"Carregando dados de: {latest_file}\")\n",
    "df = pd.read_csv(latest_file)\n",
    "\n",
    "df.head()"
   ]
  },
  {
   "cell_type": "markdown",
   "metadata": {},
   "source": [
    "### Análise de Tempo de Execução (Latência)\n",
    "\n",
    "Vamos comparar o tempo gasto nas operações de KEM (rotação de chave) e de Cifragem. Para uma comparação clara, vamos focar nos testes com 1000 mensagens e uma política de rotação de 100 mensagens."
   ]
  },
  {
   "cell_type": "code",
   "execution_count": null,
   "metadata": {},
   "outputs": [],
   "source": [
    "# Focar nos testes com 1000 mensagens e rotação a cada 100\n",
    "df_filtered = df[(df['num_msgs'] == 1000) & (df['msgs_por_rotacao'] == 100)].copy()\n",
    "\n",
    "# Gráfico para Tempo de KEM\n",
    "plt.figure(figsize=(12, 7))\n",
    "sns.barplot(data=df_filtered, x='cifra', y='kem_ms_mean', hue='acordo', palette='viridis')\n",
    "plt.title('Tempo Médio de KEM (Rotação de Chave) para 1000 Mensagens')\n",
    "plt.ylabel('Tempo Médio (ms) com IC95')\n",
    "plt.xlabel('Algoritmo de Cifra')\n",
    "\n",
    "# Adicionar barras de erro (Intervalo de Confiança 95%)\n",
    "# A forma de extrair os dados precisa corresponder à ordem do barplot\n",
    "unique_ciphers = df_filtered['cifra'].unique()\n",
    "unique_acordos = df_filtered['acordo'].unique()\n",
    "x_coords = [p.get_x() + p.get_width() / 2. for p in plt.gca().patches]\n",
    "y_coords = [p.get_height() for p in plt.gca().patches]\n",
    "errors = df_filtered.set_index(['cifra', 'acordo'])['kem_ms_ci95'].unstack().loc[unique_ciphers].values.flatten('F')\n",
    "plt.errorbar(x=x_coords, y=y_coords, yerr=errors, fmt='none', c='black', capsize=5)\n",
    "\n",
    "plt.legend(title='Tipo de Acordo')\n",
    "plt.show()\n",
    "\n",
    "\n",
    "# Gráfico para Tempo de Cifragem\n",
    "plt.figure(figsize=(12, 7))\n",
    "sns.barplot(data=df_filtered, x='cifra', y='cipher_ms_mean', hue='acordo', palette='plasma')\n",
    "plt.title('Tempo Médio de Cifragem para 1000 Mensagens')\n",
    "plt.ylabel('Tempo Médio (ms) com IC95')\n",
    "plt.xlabel('Algoritmo de Cifra')\n",
    "\n",
    "# Adicionar barras de erro\n",
    "x_coords = [p.get_x() + p.get_width() / 2. for p in plt.gca().patches]\n",
    "y_coords = [p.get_height() for p in plt.gca().patches]\n",
    "errors = df_filtered.set_index(['cifra', 'acordo'])['cipher_ms_ci95'].unstack().loc[unique_ciphers].values.flatten('F')\n",
    "plt.errorbar(x=x_coords, y=y_coords, yerr=errors, fmt='none', c='black', capsize=5)\n",
    "\n",
    "plt.legend(title='Tipo de Acordo')\n",
    "plt.show()"
   ]
  }
 ],
 "metadata": {
  "colab": {
   "authorship_tag": "ABX9TyMogpdmrT2bSw+rXTA6+BTL",
   "provenance": []
  },
  "kernelspec": {
   "display_name": "Python 3",
   "name": "python3"
  },
  "language_info": {
   "name": "python"
  }
 },
 "nbformat": 4,
 "nbformat_minor": 0
}
